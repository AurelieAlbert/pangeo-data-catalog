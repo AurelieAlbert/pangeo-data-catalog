{
 "cells": [
  {
   "cell_type": "code",
   "execution_count": 1,
   "metadata": {},
   "outputs": [
    {
     "name": "stderr",
     "output_type": "stream",
     "text": [
      "/srv/conda/envs/notebook/lib/python3.7/site-packages/intake/source/discovery.py:136: FutureWarning: The drivers ['geojson', 'postgis', 'shapefile', 'spatialite'] do not specify entry_points and were only discovered via a package scan. This may break in a future release of intake. The packages should be updated.\n",
      "  FutureWarning)\n",
      "/srv/conda/envs/notebook/lib/python3.7/site-packages/fsspec/implementations/local.py:32: FutureWarning: The default value of auto_mkdir=True has been deprecated and will be changed to auto_mkdir=False by default in a future release.\n",
      "  FutureWarning,\n"
     ]
    }
   ],
   "source": [
    "import intake\n",
    "cat_url = 'https://raw.githubusercontent.com/pangeo-data/pangeo-datastore/master/intake-catalogs/master.yaml'\n",
    "cat = intake.Catalog(cat_url)\n",
    "ds = cat.atmosphere.gmet_v1.to_dask()\n"
   ]
  },
  {
   "cell_type": "code",
   "execution_count": 2,
   "metadata": {},
   "outputs": [
    {
     "data": {
      "text/html": [
       "<pre>&lt;xarray.Dataset&gt;\n",
       "Dimensions:    (ensemble: 100, lat: 224, lon: 464, time: 12054)\n",
       "Coordinates:\n",
       "  * ensemble   (ensemble) int64 0 1 2 3 4 5 6 7 8 ... 91 92 93 94 95 96 97 98 99\n",
       "  * lat        (lat) float64 25.06 25.19 25.31 25.44 ... 52.56 52.69 52.81 52.94\n",
       "  * lon        (lon) float64 -124.9 -124.8 -124.7 ... -67.31 -67.19 -67.06\n",
       "  * time       (time) datetime64[ns] 1980-01-01 1980-01-02 ... 2012-12-31\n",
       "Data variables:\n",
       "    elevation  (lat, lon) float64 dask.array&lt;chunksize=(224, 464), meta=np.ndarray&gt;\n",
       "    mask       (lat, lon) int32 dask.array&lt;chunksize=(224, 464), meta=np.ndarray&gt;\n",
       "    pcp        (ensemble, time, lat, lon) float64 dask.array&lt;chunksize=(1, 366, 224, 464), meta=np.ndarray&gt;\n",
       "    t_max      (ensemble, time, lat, lon) float64 dask.array&lt;chunksize=(1, 366, 224, 464), meta=np.ndarray&gt;\n",
       "    t_mean     (ensemble, time, lat, lon) float64 dask.array&lt;chunksize=(1, 366, 224, 464), meta=np.ndarray&gt;\n",
       "    t_min      (ensemble, time, lat, lon) float64 dask.array&lt;chunksize=(1, 366, 224, 464), meta=np.ndarray&gt;\n",
       "    t_range    (ensemble, time, lat, lon) float64 dask.array&lt;chunksize=(1, 366, 224, 464), meta=np.ndarray&gt;\n",
       "Attributes:\n",
       "    history:                   Version 1.0 of ensemble dataset, created Decem...\n",
       "    institution:               National Center for Atmospheric Research (NCAR...\n",
       "    nco_openmp_thread_number:  1\n",
       "    references:                Newman et al. 2015: Gridded Ensemble Precipita...\n",
       "    source:                    Generated using version 1.0 of CONUS ensemble ...\n",
       "    title:                     CONUS daily 12-km gridded ensemble precipitati...</pre>"
      ],
      "text/plain": [
       "<xarray.Dataset>\n",
       "Dimensions:    (ensemble: 100, lat: 224, lon: 464, time: 12054)\n",
       "Coordinates:\n",
       "  * ensemble   (ensemble) int64 0 1 2 3 4 5 6 7 8 ... 91 92 93 94 95 96 97 98 99\n",
       "  * lat        (lat) float64 25.06 25.19 25.31 25.44 ... 52.56 52.69 52.81 52.94\n",
       "  * lon        (lon) float64 -124.9 -124.8 -124.7 ... -67.31 -67.19 -67.06\n",
       "  * time       (time) datetime64[ns] 1980-01-01 1980-01-02 ... 2012-12-31\n",
       "Data variables:\n",
       "    elevation  (lat, lon) float64 dask.array<chunksize=(224, 464), meta=np.ndarray>\n",
       "    mask       (lat, lon) int32 dask.array<chunksize=(224, 464), meta=np.ndarray>\n",
       "    pcp        (ensemble, time, lat, lon) float64 dask.array<chunksize=(1, 366, 224, 464), meta=np.ndarray>\n",
       "    t_max      (ensemble, time, lat, lon) float64 dask.array<chunksize=(1, 366, 224, 464), meta=np.ndarray>\n",
       "    t_mean     (ensemble, time, lat, lon) float64 dask.array<chunksize=(1, 366, 224, 464), meta=np.ndarray>\n",
       "    t_min      (ensemble, time, lat, lon) float64 dask.array<chunksize=(1, 366, 224, 464), meta=np.ndarray>\n",
       "    t_range    (ensemble, time, lat, lon) float64 dask.array<chunksize=(1, 366, 224, 464), meta=np.ndarray>\n",
       "Attributes:\n",
       "    history:                   Version 1.0 of ensemble dataset, created Decem...\n",
       "    institution:               National Center for Atmospheric Research (NCAR...\n",
       "    nco_openmp_thread_number:  1\n",
       "    references:                Newman et al. 2015: Gridded Ensemble Precipita...\n",
       "    source:                    Generated using version 1.0 of CONUS ensemble ...\n",
       "    title:                     CONUS daily 12-km gridded ensemble precipitati..."
      ]
     },
     "execution_count": 2,
     "metadata": {},
     "output_type": "execute_result"
    }
   ],
   "source": [
    "ds"
   ]
  },
  {
   "cell_type": "code",
   "execution_count": 3,
   "metadata": {},
   "outputs": [],
   "source": [
    "import intake\n",
    "cat = intake.Catalog(\"https://raw.githubusercontent.com/pangeo-data/pangeo-datastore/master/intake-catalogs/ocean.yaml\")\n",
    "ds = cat[\"sea_surface_height\"].to_dask()"
   ]
  },
  {
   "cell_type": "code",
   "execution_count": 4,
   "metadata": {},
   "outputs": [
    {
     "data": {
      "text/html": [
       "<pre>&lt;xarray.Dataset&gt;\n",
       "Dimensions:    (latitude: 720, longitude: 1440, nv: 2, time: 8901)\n",
       "Coordinates:\n",
       "    crs        int32 ...\n",
       "    lat_bnds   (time, latitude, nv) float32 dask.array&lt;chunksize=(5, 720, 2), meta=np.ndarray&gt;\n",
       "  * latitude   (latitude) float32 -89.875 -89.625 -89.375 ... 89.625 89.875\n",
       "    lon_bnds   (longitude, nv) float32 dask.array&lt;chunksize=(1440, 2), meta=np.ndarray&gt;\n",
       "  * longitude  (longitude) float32 0.125 0.375 0.625 ... 359.375 359.625 359.875\n",
       "  * nv         (nv) int32 0 1\n",
       "  * time       (time) datetime64[ns] 1993-01-01 1993-01-02 ... 2017-05-15\n",
       "Data variables:\n",
       "    adt        (time, latitude, longitude) float64 dask.array&lt;chunksize=(5, 720, 1440), meta=np.ndarray&gt;\n",
       "    err        (time, latitude, longitude) float64 dask.array&lt;chunksize=(5, 720, 1440), meta=np.ndarray&gt;\n",
       "    sla        (time, latitude, longitude) float64 dask.array&lt;chunksize=(5, 720, 1440), meta=np.ndarray&gt;\n",
       "    ugos       (time, latitude, longitude) float64 dask.array&lt;chunksize=(5, 720, 1440), meta=np.ndarray&gt;\n",
       "    ugosa      (time, latitude, longitude) float64 dask.array&lt;chunksize=(5, 720, 1440), meta=np.ndarray&gt;\n",
       "    vgos       (time, latitude, longitude) float64 dask.array&lt;chunksize=(5, 720, 1440), meta=np.ndarray&gt;\n",
       "    vgosa      (time, latitude, longitude) float64 dask.array&lt;chunksize=(5, 720, 1440), meta=np.ndarray&gt;\n",
       "Attributes:\n",
       "    Conventions:                     CF-1.6\n",
       "    Metadata_Conventions:            Unidata Dataset Discovery v1.0\n",
       "    cdm_data_type:                   Grid\n",
       "    comment:                         Sea Surface Height measured by Altimetry...\n",
       "    contact:                         servicedesk.cmems@mercator-ocean.eu\n",
       "    creator_email:                   servicedesk.cmems@mercator-ocean.eu\n",
       "    creator_name:                    CMEMS - Sea Level Thematic Assembly Center\n",
       "    creator_url:                     http://marine.copernicus.eu\n",
       "    date_created:                    2014-02-26T16:09:13Z\n",
       "    date_issued:                     2014-01-06T00:00:00Z\n",
       "    date_modified:                   2015-11-10T19:42:51Z\n",
       "    geospatial_lat_max:              89.875\n",
       "    geospatial_lat_min:              -89.875\n",
       "    geospatial_lat_resolution:       0.25\n",
       "    geospatial_lat_units:            degrees_north\n",
       "    geospatial_lon_max:              359.875\n",
       "    geospatial_lon_min:              0.125\n",
       "    geospatial_lon_resolution:       0.25\n",
       "    geospatial_lon_units:            degrees_east\n",
       "    geospatial_vertical_max:         0.0\n",
       "    geospatial_vertical_min:         0.0\n",
       "    geospatial_vertical_positive:    down\n",
       "    geospatial_vertical_resolution:  point\n",
       "    geospatial_vertical_units:       m\n",
       "    history:                         2014-02-26T16:09:13Z: created by DUACS D...\n",
       "    institution:                     CLS, CNES\n",
       "    keywords:                        Oceans &gt; Ocean Topography &gt; Sea Surface ...\n",
       "    keywords_vocabulary:             NetCDF COARDS Climate and Forecast Stand...\n",
       "    license:                         http://marine.copernicus.eu/web/27-servi...\n",
       "    platform:                        ERS-1, Topex/Poseidon\n",
       "    processing_level:                L4\n",
       "    product_version:                 5.0\n",
       "    project:                         COPERNICUS MARINE ENVIRONMENT MONITORING...\n",
       "    references:                      http://marine.copernicus.eu\n",
       "    source:                          Altimetry measurements\n",
       "    ssalto_duacs_comment:            The reference mission used for the altim...\n",
       "    standard_name_vocabulary:        NetCDF Climate and Forecast (CF) Metadat...\n",
       "    summary:                         SSALTO/DUACS Delayed-Time Level-4 sea su...\n",
       "    time_coverage_duration:          P1D\n",
       "    time_coverage_end:               1993-01-01T12:00:00Z\n",
       "    time_coverage_resolution:        P1D\n",
       "    time_coverage_start:             1992-12-31T12:00:00Z\n",
       "    title:                           DT merged all satellites Global Ocean Gr...</pre>"
      ],
      "text/plain": [
       "<xarray.Dataset>\n",
       "Dimensions:    (latitude: 720, longitude: 1440, nv: 2, time: 8901)\n",
       "Coordinates:\n",
       "    crs        int32 ...\n",
       "    lat_bnds   (time, latitude, nv) float32 dask.array<chunksize=(5, 720, 2), meta=np.ndarray>\n",
       "  * latitude   (latitude) float32 -89.875 -89.625 -89.375 ... 89.625 89.875\n",
       "    lon_bnds   (longitude, nv) float32 dask.array<chunksize=(1440, 2), meta=np.ndarray>\n",
       "  * longitude  (longitude) float32 0.125 0.375 0.625 ... 359.375 359.625 359.875\n",
       "  * nv         (nv) int32 0 1\n",
       "  * time       (time) datetime64[ns] 1993-01-01 1993-01-02 ... 2017-05-15\n",
       "Data variables:\n",
       "    adt        (time, latitude, longitude) float64 dask.array<chunksize=(5, 720, 1440), meta=np.ndarray>\n",
       "    err        (time, latitude, longitude) float64 dask.array<chunksize=(5, 720, 1440), meta=np.ndarray>\n",
       "    sla        (time, latitude, longitude) float64 dask.array<chunksize=(5, 720, 1440), meta=np.ndarray>\n",
       "    ugos       (time, latitude, longitude) float64 dask.array<chunksize=(5, 720, 1440), meta=np.ndarray>\n",
       "    ugosa      (time, latitude, longitude) float64 dask.array<chunksize=(5, 720, 1440), meta=np.ndarray>\n",
       "    vgos       (time, latitude, longitude) float64 dask.array<chunksize=(5, 720, 1440), meta=np.ndarray>\n",
       "    vgosa      (time, latitude, longitude) float64 dask.array<chunksize=(5, 720, 1440), meta=np.ndarray>\n",
       "Attributes:\n",
       "    Conventions:                     CF-1.6\n",
       "    Metadata_Conventions:            Unidata Dataset Discovery v1.0\n",
       "    cdm_data_type:                   Grid\n",
       "    comment:                         Sea Surface Height measured by Altimetry...\n",
       "    contact:                         servicedesk.cmems@mercator-ocean.eu\n",
       "    creator_email:                   servicedesk.cmems@mercator-ocean.eu\n",
       "    creator_name:                    CMEMS - Sea Level Thematic Assembly Center\n",
       "    creator_url:                     http://marine.copernicus.eu\n",
       "    date_created:                    2014-02-26T16:09:13Z\n",
       "    date_issued:                     2014-01-06T00:00:00Z\n",
       "    date_modified:                   2015-11-10T19:42:51Z\n",
       "    geospatial_lat_max:              89.875\n",
       "    geospatial_lat_min:              -89.875\n",
       "    geospatial_lat_resolution:       0.25\n",
       "    geospatial_lat_units:            degrees_north\n",
       "    geospatial_lon_max:              359.875\n",
       "    geospatial_lon_min:              0.125\n",
       "    geospatial_lon_resolution:       0.25\n",
       "    geospatial_lon_units:            degrees_east\n",
       "    geospatial_vertical_max:         0.0\n",
       "    geospatial_vertical_min:         0.0\n",
       "    geospatial_vertical_positive:    down\n",
       "    geospatial_vertical_resolution:  point\n",
       "    geospatial_vertical_units:       m\n",
       "    history:                         2014-02-26T16:09:13Z: created by DUACS D...\n",
       "    institution:                     CLS, CNES\n",
       "    keywords:                        Oceans > Ocean Topography > Sea Surface ...\n",
       "    keywords_vocabulary:             NetCDF COARDS Climate and Forecast Stand...\n",
       "    license:                         http://marine.copernicus.eu/web/27-servi...\n",
       "    platform:                        ERS-1, Topex/Poseidon\n",
       "    processing_level:                L4\n",
       "    product_version:                 5.0\n",
       "    project:                         COPERNICUS MARINE ENVIRONMENT MONITORING...\n",
       "    references:                      http://marine.copernicus.eu\n",
       "    source:                          Altimetry measurements\n",
       "    ssalto_duacs_comment:            The reference mission used for the altim...\n",
       "    standard_name_vocabulary:        NetCDF Climate and Forecast (CF) Metadat...\n",
       "    summary:                         SSALTO/DUACS Delayed-Time Level-4 sea su...\n",
       "    time_coverage_duration:          P1D\n",
       "    time_coverage_end:               1993-01-01T12:00:00Z\n",
       "    time_coverage_resolution:        P1D\n",
       "    time_coverage_start:             1992-12-31T12:00:00Z\n",
       "    title:                           DT merged all satellites Global Ocean Gr..."
      ]
     },
     "execution_count": 4,
     "metadata": {},
     "output_type": "execute_result"
    }
   ],
   "source": [
    "ds"
   ]
  },
  {
   "cell_type": "code",
   "execution_count": null,
   "metadata": {},
   "outputs": [],
   "source": []
  }
 ],
 "metadata": {
  "kernelspec": {
   "display_name": "Python 3",
   "language": "python",
   "name": "python3"
  },
  "language_info": {
   "codemirror_mode": {
    "name": "ipython",
    "version": 3
   },
   "file_extension": ".py",
   "mimetype": "text/x-python",
   "name": "python",
   "nbconvert_exporter": "python",
   "pygments_lexer": "ipython3",
   "version": "3.7.6"
  }
 },
 "nbformat": 4,
 "nbformat_minor": 4
}
